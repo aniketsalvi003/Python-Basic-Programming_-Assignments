{
 "cells": [
  {
   "cell_type": "markdown",
   "metadata": {},
   "source": [
    "# 13. Python Basics Programming Assignment"
   ]
  },
  {
   "cell_type": "markdown",
   "metadata": {},
   "source": [
    "### Q1. Write a program that calculates and prints the value according to the given formula:\n",
    "\n",
    "Q = Square root of [(2 * C * D)/H]\n",
    "\n",
    "Following are the fixed values of C and H:\n",
    "\n",
    "C is 50. H is 30.\n",
    "\n",
    "D is the variable whose values should be input to your program in a comma-separated sequence.\n",
    "\n",
    "Example\n",
    "\n",
    "Let us assume the following comma separated input sequence is given to the program:\n",
    "\n",
    "100,150,180\n",
    "\n",
    "The output of the program should be:\n",
    "\n",
    "18,22,24\n"
   ]
  },
  {
   "cell_type": "code",
   "execution_count": 6,
   "metadata": {},
   "outputs": [
    {
     "name": "stdout",
     "output_type": "stream",
     "text": [
      "Enter Comma separated integer value100,150,180\n",
      "Entered values of D are ; [100, 150, 180]\n",
      "Result : [18, 22, 24]\n"
     ]
    }
   ],
   "source": [
    "\n",
    "try:\n",
    "    D=input(\"Enter Comma separated integer value\")\n",
    "    D_list=D.split(',')\n",
    "    D_int=[]\n",
    "    for ele in D_list:\n",
    "        D_int.append(int(ele))\n",
    "            \n",
    "except Exception as e:\n",
    "    print(\"Error Occured :\",e)\n",
    "    \n",
    "C = 50\n",
    "H = 30\n",
    "E = []\n",
    "\n",
    "print(\"Entered values of D are ;\", D_int)\n",
    "Q=[]\n",
    "for ele in D_int:\n",
    "    E.append(int(((2*C*ele)/H)**0.5))\n",
    "    \n",
    "print('Result :', E)"
   ]
  },
  {
   "cell_type": "markdown",
   "metadata": {},
   "source": [
    "### Write a program which takes 2 digits, X,Y as input and generates a 2-dimensional array. The element value in the i-th row and j-th column of the array should be i*j.\n",
    "\n",
    "Note: i=0,1.., X-1; j=0,1,¡¬Y-1.\n",
    "\n",
    "Example\n",
    "\n",
    "Suppose the following inputs are given to the program:\n",
    "\n",
    "3,5\n",
    "\n",
    "Then, the output of the program should be:\n",
    "\n",
    "[[0, 0, 0, 0, 0], [0, 1, 2, 3, 4], [0, 2, 4, 6, 8]] \n"
   ]
  },
  {
   "cell_type": "code",
   "execution_count": 10,
   "metadata": {},
   "outputs": [
    {
     "name": "stdout",
     "output_type": "stream",
     "text": [
      "Enter number of rows4\n",
      "Enter number of columns5\n",
      "Output Matrix\n",
      "[[0, 0, 0, 0, 0], [0, 1, 2, 3, 4], [0, 2, 4, 6, 8], [0, 3, 6, 9, 12]]\n"
     ]
    }
   ],
   "source": [
    "while True:\n",
    "    try:\n",
    "        row=int(input(\"Enter number of rows\"))\n",
    "        col=int(input(\"Enter number of columns\"))\n",
    "        if row<=0 or col<0:\n",
    "            print(\"Enter a positive number\")\n",
    "            continue\n",
    "        else:\n",
    "            break\n",
    "    except Exception as e:\n",
    "        print(\"Error Occured\",e)\n",
    "        \n",
    "output=[]\n",
    "\n",
    "for i in range(row):\n",
    "    rows=[]\n",
    "    for j in range(col):\n",
    "        rows.append(i*j)\n",
    "    output.append(rows)\n",
    "\n",
    "print(\"Output Matrix\")\n",
    "print(output)"
   ]
  },
  {
   "cell_type": "markdown",
   "metadata": {},
   "source": [
    "### Q3.Write a program that accepts a comma separated sequence of words as input and prints the words in a comma-separated sequence after sorting them alphabetically.\n",
    "\n",
    "Suppose the following input is supplied to the program:\n",
    "\n",
    "without,hello,bag,world\n",
    "\n",
    "Then, the output should be:\n",
    "\n",
    "bag,hello,without,world\n",
    " "
   ]
  },
  {
   "cell_type": "code",
   "execution_count": 12,
   "metadata": {},
   "outputs": [
    {
     "name": "stdout",
     "output_type": "stream",
     "text": [
      "Enter comma separated wordswithout,hello,bag,world\n",
      "Sorted in alphabetical orders\n",
      "without,hello,bag,world,"
     ]
    }
   ],
   "source": [
    "seq=input('Enter comma separated words')\n",
    "seq_list=seq.split(\",\")\n",
    "print(\"Sorted in alphabetical orders\")\n",
    "for ele in seq_list:\n",
    "    print(ele,end=',')"
   ]
  },
  {
   "cell_type": "markdown",
   "metadata": {},
   "source": [
    "### Q4.Write a program that accepts a sequence of whitespace separated words as input and prints the words after removing all duplicate words and sorting them alphanumerically.\n",
    "\n",
    "Suppose the following input is supplied to the program:\n",
    "\n",
    "hello world and practice makes perfect and hello world again\n",
    "\n",
    "Then, the output should be:\n",
    "\n",
    "again and hello makes perfect practice world\n"
   ]
  },
  {
   "cell_type": "code",
   "execution_count": 18,
   "metadata": {},
   "outputs": [
    {
     "name": "stdout",
     "output_type": "stream",
     "text": [
      "Enter space separated wordshello world and practice makes perfect and hello world again\n",
      "Unique Words in input sorted alphabetically\n",
      "again and hello makes perfect practice world "
     ]
    }
   ],
   "source": [
    "seq=input('Enter space separated words')\n",
    "seq_list=seq.split(\" \")\n",
    "seq_list.sort()\n",
    "\n",
    "unique=[]\n",
    "\n",
    "for ele in seq_list:\n",
    "    if ele not in unique:\n",
    "        unique.append(ele)\n",
    "        \n",
    "print(\"Unique Words in input sorted alphabetically\")\n",
    "for ele in unique:\n",
    "    print(ele,end=' ')"
   ]
  },
  {
   "cell_type": "markdown",
   "metadata": {},
   "source": [
    "### Q5. Write a program that accepts a sentence and calculate the number of letters and digits.\n",
    "\n",
    "Suppose the following input is supplied to the program:\n",
    "\n",
    "hello world! 123\n",
    "\n",
    "Then, the output should be:\n",
    "\n",
    "LETTERS 10\n",
    "\n",
    "DIGITS 3\n"
   ]
  },
  {
   "cell_type": "code",
   "execution_count": 27,
   "metadata": {},
   "outputs": [
    {
     "name": "stdout",
     "output_type": "stream",
     "text": [
      "Enter a sentencehello world! 123\n",
      "LETTERS 10\n",
      "DIGITS 3\n"
     ]
    }
   ],
   "source": [
    "seq=input('Enter a sentence')\n",
    "\n",
    "letters=0\n",
    "digits=0\n",
    "\n",
    "\n",
    "for char in seq:\n",
    "    if char.isalpha():\n",
    "        letters+=1\n",
    "    elif char.isdigit():\n",
    "        digits+=1\n",
    "        \n",
    "print(\"LETTERS\", letters)\n",
    "print(\"DIGITS\", digits)"
   ]
  },
  {
   "cell_type": "markdown",
   "metadata": {},
   "source": [
    "### Q6.A website requires the users to input username and password to register. Write a program to check the validity of password input by users.\n",
    "\n",
    "Following are the criteria for checking the password:\n",
    "\n",
    "1. At least 1 letter between [a-z]\n",
    "\n",
    "2. At least 1 number between [0-9]\n",
    "\n",
    "1. At least 1 letter between [A-Z]\n",
    "\n",
    "3. At least 1 character from [$#@]\n",
    "\n",
    "4. Minimum length of transaction password: 6\n",
    "\n",
    "5. Maximum length of transaction password: 12\n",
    "\n",
    "Your program should accept a sequence of comma separated passwords and will check them according to the above criteria. Passwords that match the criteria are to be printed, each separated by a comma.\n",
    "\n",
    "Example\n",
    "\n",
    "If the following passwords are given as input to the program:\n",
    "\n",
    "ABd1234@1,a F1#,2w3E*,2We3345\n",
    "\n",
    "Then, the output of the program should be:\n",
    "\n",
    "ABd1234@1\n"
   ]
  },
  {
   "cell_type": "code",
   "execution_count": 31,
   "metadata": {},
   "outputs": [
    {
     "name": "stdout",
     "output_type": "stream",
     "text": [
      "Enter a comma separated passwordsABd1234@1,a F1#,2w3E*,2We3345\n",
      "Correct password :\n",
      "['ABd1234@1']\n"
     ]
    }
   ],
   "source": [
    "password=input(\"Enter a comma separated passwords\")\n",
    "pass_list=password.split(',')\n",
    "spl_char = [\"$\",\"#\",\"@\"]\n",
    "valid=[]\n",
    "for password in pass_list:\n",
    "    if len(password)<6 or len(password)>12:\n",
    "        continue\n",
    "    if (password.isupper() or password.islower()):\n",
    "        continue\n",
    "    num = any(j.isdigit() for j in password)\n",
    "    if (not num):\n",
    "        continue\n",
    "    spl = any(j in spl_char for j in password)\n",
    "    if (not spl):\n",
    "        continue\n",
    "        \n",
    "    valid.append(password)\n",
    "    \n",
    "print(\"Correct password :\")\n",
    "print(valid)"
   ]
  },
  {
   "cell_type": "code",
   "execution_count": null,
   "metadata": {},
   "outputs": [],
   "source": []
  }
 ],
 "metadata": {
  "kernelspec": {
   "display_name": "Python 3",
   "language": "python",
   "name": "python3"
  },
  "language_info": {
   "codemirror_mode": {
    "name": "ipython",
    "version": 3
   },
   "file_extension": ".py",
   "mimetype": "text/x-python",
   "name": "python",
   "nbconvert_exporter": "python",
   "pygments_lexer": "ipython3",
   "version": "3.8.5"
  }
 },
 "nbformat": 4,
 "nbformat_minor": 4
}
