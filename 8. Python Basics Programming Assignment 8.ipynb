{
 "cells": [
  {
   "cell_type": "markdown",
   "metadata": {},
   "source": [
    "# Python Basics Programming Assignment 8"
   ]
  },
  {
   "cell_type": "markdown",
   "metadata": {},
   "source": [
    "### Q1.\tWrite a Python Program to Add Two Matrices?"
   ]
  },
  {
   "cell_type": "code",
   "execution_count": 9,
   "metadata": {},
   "outputs": [
    {
     "name": "stdout",
     "output_type": "stream",
     "text": [
      "Input number of rows in matrices2\n",
      "Input number of columns in matrices2\n",
      "Enter element at row 0 and column 0 for matrix 11\n",
      "Enter element at row 0 and column 1 for matrix 12\n",
      "Enter element at row 1 and column 0 for matrix 13\n",
      "Enter element at row 1 and column 1 for matrix 14\n",
      "Enter element at row 0 and column 0 for matrix 25\n",
      "Enter element at row 0 and column 1 for matrix 26\n",
      "Enter element at row 1 and column 0 for matrix 27\n",
      "Enter element at row 1 and column 1 for matrix 28\n",
      "[[1, 2], [3, 4]]\n",
      "[[5, 6], [7, 8]]\n",
      "Addition of matrices\n"
     ]
    },
    {
     "data": {
      "text/plain": [
       "array([[ 6,  8],\n",
       "       [10, 12]])"
      ]
     },
     "execution_count": 9,
     "metadata": {},
     "output_type": "execute_result"
    }
   ],
   "source": [
    "import numpy as np\n",
    "#Take number of rows and columns in matrices req\n",
    "while True:\n",
    "    try :\n",
    "        rows=int(input(\"Input number of rows in matrices\"))\n",
    "        cols=int(input(\"Input number of columns in matrices\"))\n",
    "        if cols<1 or rows<1:\n",
    "            print(\"Enter Number greater than or equal to one\")\n",
    "            continue\n",
    "        else:\n",
    "            break\n",
    "    except Exception as e:\n",
    "        print(\"Error Occured\",e)\n",
    "\n",
    "matrix1= []\n",
    "\n",
    "for i in range(rows):     \n",
    "    a =[]\n",
    "    for j in range(cols):\n",
    "        b=int(input(\"Enter element at row {0} and column {1} for matrix 1\".format(i,j)))\n",
    "        a.append(b)\n",
    "    matrix1.append(a)\n",
    "\n",
    "matrix2 = []\n",
    "\n",
    "for i in range(rows):     \n",
    "    a =[]\n",
    "    for j in range(cols):\n",
    "        b=int(input(\"Enter element at row {0} and column {1} for matrix 2\".format(i,j)))\n",
    "        a.append(b)\n",
    "    matrix2.append(a)\n",
    "print(matrix1)\n",
    "print(matrix2)\n",
    "\n",
    "def matrix_add(matrix1, matrix2):\n",
    "    A=np.array(matrix1)\n",
    "    B=np.array(matrix2)\n",
    "    return A+B\n",
    "\n",
    "print(\"Addition of matrices\")\n",
    "matrix_add(matrix1,matrix2)"
   ]
  },
  {
   "cell_type": "markdown",
   "metadata": {},
   "source": [
    "### Q2.\tWrite a Python Program to Multiply Two Matrices?"
   ]
  },
  {
   "cell_type": "code",
   "execution_count": 10,
   "metadata": {},
   "outputs": [
    {
     "name": "stdout",
     "output_type": "stream",
     "text": [
      "Input number of rows in matrices2\n",
      "Input number of columns in matrices2\n",
      "Enter element at row 0 and column 0 for matrix 11\n",
      "Enter element at row 0 and column 1 for matrix 12\n",
      "Enter element at row 1 and column 0 for matrix 13\n",
      "Enter element at row 1 and column 1 for matrix 14\n",
      "Enter element at row 0 and column 0 for matrix 25\n",
      "Enter element at row 0 and column 1 for matrix 26\n",
      "Enter element at row 1 and column 0 for matrix 27\n",
      "Enter element at row 1 and column 1 for matrix 28\n",
      "[[1, 2], [3, 4]]\n",
      "[[5, 6], [7, 8]]\n",
      "Addition of matrices\n"
     ]
    },
    {
     "data": {
      "text/plain": [
       "array([[19, 22],\n",
       "       [43, 50]])"
      ]
     },
     "execution_count": 10,
     "metadata": {},
     "output_type": "execute_result"
    }
   ],
   "source": [
    "import numpy as np\n",
    "#Take number of rows and columns in matrices req\n",
    "while True:\n",
    "    try :\n",
    "        rows=int(input(\"Input number of rows in matrices\"))\n",
    "        cols=int(input(\"Input number of columns in matrices\"))\n",
    "        if cols<1 or rows<1:\n",
    "            print(\"Enter Number greater than or equal to one\")\n",
    "            continue\n",
    "        else:\n",
    "            break\n",
    "    except Exception as e:\n",
    "        print(\"Error Occured\",e)\n",
    "\n",
    "matrix1= []\n",
    "\n",
    "for i in range(rows):     \n",
    "    a =[]\n",
    "    for j in range(cols):\n",
    "        b=int(input(\"Enter element at row {0} and column {1} for matrix 1\".format(i,j)))\n",
    "        a.append(b)\n",
    "    matrix1.append(a)\n",
    "\n",
    "matrix2 = []\n",
    "\n",
    "for i in range(rows):     \n",
    "    a =[]\n",
    "    for j in range(cols):\n",
    "        b=int(input(\"Enter element at row {0} and column {1} for matrix 2\".format(i,j)))\n",
    "        a.append(b)\n",
    "    matrix2.append(a)\n",
    "print(matrix1)\n",
    "print(matrix2)\n",
    "\n",
    "def matrix_mul(matrix1, matrix2):\n",
    "    A=np.array(matrix1)\n",
    "    B=np.array(matrix2)\n",
    "    return A.dot(B)\n",
    "\n",
    "print(\"Addition of matrices\")\n",
    "matrix_mul(matrix1,matrix2)"
   ]
  },
  {
   "cell_type": "markdown",
   "metadata": {},
   "source": [
    "### Q3.\tWrite a Python Program to Transpose a Matrix?"
   ]
  },
  {
   "cell_type": "code",
   "execution_count": 11,
   "metadata": {},
   "outputs": [
    {
     "name": "stdout",
     "output_type": "stream",
     "text": [
      "Input number of rows in matrices2\n",
      "Input number of columns in matrices2\n",
      "Enter element at row 0 and column 0 for matrix 11\n",
      "Enter element at row 0 and column 1 for matrix 12\n",
      "Enter element at row 1 and column 0 for matrix 13\n",
      "Enter element at row 1 and column 1 for matrix 14\n",
      "[[1, 2], [3, 4]]\n",
      "Addition of matrices\n"
     ]
    },
    {
     "data": {
      "text/plain": [
       "array([[1, 3],\n",
       "       [2, 4]])"
      ]
     },
     "execution_count": 11,
     "metadata": {},
     "output_type": "execute_result"
    }
   ],
   "source": [
    "import numpy as np\n",
    "#Take number of rows and columns in matrices req\n",
    "while True:\n",
    "    try :\n",
    "        rows=int(input(\"Input number of rows in matrices\"))\n",
    "        cols=int(input(\"Input number of columns in matrices\"))\n",
    "        if cols<1 or rows<1:\n",
    "            print(\"Enter Number greater than or equal to one\")\n",
    "            continue\n",
    "        else:\n",
    "            break\n",
    "    except Exception as e:\n",
    "        print(\"Error Occured\",e)\n",
    "\n",
    "matrix1= []\n",
    "\n",
    "for i in range(rows):     \n",
    "    a =[]\n",
    "    for j in range(cols):\n",
    "        b=int(input(\"Enter element at row {0} and column {1} for matrix 1\".format(i,j)))\n",
    "        a.append(b)\n",
    "    matrix1.append(a)\n",
    "\n",
    "print(matrix1)\n",
    "\n",
    "def matrix_trans(matrix1):\n",
    "    A=np.array(matrix1)\n",
    "    return A.transpose()\n",
    "\n",
    "print(\"Addition of matrices\")\n",
    "matrix_trans(matrix1)"
   ]
  },
  {
   "cell_type": "markdown",
   "metadata": {},
   "source": [
    "### Q4.\tWrite a Python Program to Sort Words in Alphabetic Order?"
   ]
  },
  {
   "cell_type": "code",
   "execution_count": 36,
   "metadata": {},
   "outputs": [
    {
     "name": "stdout",
     "output_type": "stream",
     "text": [
      "Enter the total number of words5\n",
      "Enter word 1 In\n",
      "Enter word 2 an\n",
      "Enter word 3 alphabetical\n",
      "Enter word 4 order\n",
      "Enter word 5 please\n",
      "['in', 'an', 'alphabetical', 'order', 'please']\n",
      "Words in alphabetic orders\n",
      "alphabetical\n",
      "an\n",
      "in\n",
      "order\n",
      "please\n"
     ]
    }
   ],
   "source": [
    "import re\n",
    "#Taking user input to enter number of words\n",
    "while True:\n",
    "    try:\n",
    "        words_num=int(input(\"Enter the total number of words\"))\n",
    "        if words_num<=1:\n",
    "            print(\"Atleast two words must be inputed for sorting\")\n",
    "            continue \n",
    "        else:\n",
    "            break\n",
    "    except Exception as e:\n",
    "        print(\"Error occured\",e)\n",
    "        continue\n",
    "        \n",
    "word_list=[]\n",
    "#Take input of words\n",
    "try:\n",
    "    for i in range(words_num):\n",
    "        word=input(\"Enter word {} \".format(i+1))\n",
    "        word_list.append(word.lower())  \n",
    "        \n",
    "except Exception as e:\n",
    "    print(\"Error occured\", e)\n",
    "print(word_list)\n",
    "\n",
    "def aplha_order(word_list):\n",
    "    word_list.sort()\n",
    "    for word in word_list:\n",
    "        print(word)\n",
    "\n",
    "print(\"Words in alphabetic orders\")\n",
    "aplha_order(word_list)"
   ]
  },
  {
   "cell_type": "markdown",
   "metadata": {},
   "source": [
    "### Q5.\tWrite a Python Program to Remove Punctuation From a String? "
   ]
  },
  {
   "cell_type": "code",
   "execution_count": 40,
   "metadata": {},
   "outputs": [
    {
     "name": "stdout",
     "output_type": "stream",
     "text": [
      "Enter a StringLook!! Out There.\n",
      "String without punctuations \n",
      "Look Out There\n"
     ]
    }
   ],
   "source": [
    "string=input(\"Enter a String\")\n",
    "punctuations = '''!()-[]{};:'\"\\,<>./?@#$%^&*_~'''\n",
    "no_punct = \"\"\n",
    "for char in string:\n",
    "    if char not in punctuations:\n",
    "        no_punct = no_punct + char\n",
    "        \n",
    "print(\"String without punctuations \")\n",
    "print(no_punct)"
   ]
  },
  {
   "cell_type": "code",
   "execution_count": null,
   "metadata": {},
   "outputs": [],
   "source": []
  },
  {
   "cell_type": "code",
   "execution_count": null,
   "metadata": {},
   "outputs": [],
   "source": []
  }
 ],
 "metadata": {
  "kernelspec": {
   "display_name": "Python 3",
   "language": "python",
   "name": "python3"
  },
  "language_info": {
   "codemirror_mode": {
    "name": "ipython",
    "version": 3
   },
   "file_extension": ".py",
   "mimetype": "text/x-python",
   "name": "python",
   "nbconvert_exporter": "python",
   "pygments_lexer": "ipython3",
   "version": "3.8.5"
  }
 },
 "nbformat": 4,
 "nbformat_minor": 4
}
