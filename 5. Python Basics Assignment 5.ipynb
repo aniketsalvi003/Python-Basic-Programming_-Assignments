{
 "cells": [
  {
   "cell_type": "markdown",
   "metadata": {},
   "source": [
    "# Python Basics Assignment 5"
   ]
  },
  {
   "cell_type": "markdown",
   "metadata": {},
   "source": [
    "### Q1.\tWrite a Python Program to Find LCM?"
   ]
  },
  {
   "cell_type": "code",
   "execution_count": 5,
   "metadata": {},
   "outputs": [
    {
     "name": "stdout",
     "output_type": "stream",
     "text": [
      "Enter First number to check LCM5\n",
      "Enter Seconf Number to check LCM7\n",
      "LCM of 5 and 7 is 35\n"
     ]
    }
   ],
   "source": [
    "#Function to calculate LCM \n",
    "def LCM(x,y):\n",
    "    if x > y: \n",
    "        greater = x\n",
    "    else:  \n",
    "        greater = y  \n",
    "    \n",
    "    while(True):  \n",
    "        if((greater % x == 0) and (greater % y == 0)):  \n",
    "            lcm = greater  \n",
    "            break  \n",
    "        greater += 1  \n",
    "    return lcm  \n",
    "\n",
    "num1=int(input(\"Enter First number to check LCM\"))\n",
    "num2=int(input(\"Enter Seconf Number to check LCM\"))\n",
    "\n",
    "print(\"LCM of {0} and {1} is\".format(num1,num2), LCM(num1,num2))"
   ]
  },
  {
   "cell_type": "markdown",
   "metadata": {},
   "source": [
    "### Q2.\tWrite a Python Program to Find HCF?"
   ]
  },
  {
   "cell_type": "code",
   "execution_count": 14,
   "metadata": {},
   "outputs": [
    {
     "name": "stdout",
     "output_type": "stream",
     "text": [
      "Enter First number to check HCF45\n",
      "Enter Seconf Number to check HCF54\n",
      "HCF of 45 and 54 is 9\n"
     ]
    }
   ],
   "source": [
    "#Function to calculate HCF \n",
    "def HCF(x,y):\n",
    "    if x > y: \n",
    "        smaller = y\n",
    "    else:  \n",
    "        smaller = x  \n",
    "    \n",
    "    for i in range(1,smaller+1):\n",
    "        if((x % i == 0) and (y % i == 0)):  \n",
    "            hcf = i  \n",
    "               \n",
    "    return hcf  \n",
    "\n",
    "num1=int(input(\"Enter First number to check HCF\"))\n",
    "num2=int(input(\"Enter Seconf Number to check HCF\"))\n",
    "\n",
    "print(\"HCF of {0} and {1} is\".format(num1,num2), HCF(num1,num2))"
   ]
  },
  {
   "cell_type": "markdown",
   "metadata": {},
   "source": [
    "### Q3.\tWrite a Python Program to Convert Decimal to Binary, Octal and Hexadecimal?"
   ]
  },
  {
   "cell_type": "code",
   "execution_count": 4,
   "metadata": {},
   "outputs": [
    {
     "name": "stdout",
     "output_type": "stream",
     "text": [
      "Enter a decimal number l\n",
      "Error occured, Please Check  the input\n",
      "Enter a decimal number45\n",
      "Binary Number 0b101101\n",
      "Octal Number 0o55\n",
      "Hexadecimal Number 0x2d\n"
     ]
    }
   ],
   "source": [
    "#Exception handling unless  right input is entered\n",
    "while True:\n",
    "    try:\n",
    "        num=int(input(\"Enter a decimal number \"))\n",
    "        break\n",
    "    except:\n",
    "        print(\"Error occured, Please Check  the input\")\n",
    "#Function to convert Decimal to Binary, Octal and Hexadecimal\n",
    "def convert(num):\n",
    "    print(\"Binary Number\",bin(num))\n",
    "    print(\"Octal Number\",oct(num))\n",
    "    print(\"Hexadecimal Number\",hex(num))\n",
    "    \n",
    "convert(num)"
   ]
  },
  {
   "cell_type": "markdown",
   "metadata": {},
   "source": [
    "### Q4.\tWrite a Python Program To Find ASCII value of a character?"
   ]
  },
  {
   "cell_type": "code",
   "execution_count": 1,
   "metadata": {},
   "outputs": [
    {
     "name": "stdout",
     "output_type": "stream",
     "text": [
      "Please Input a characterani\n",
      "Re-enter Wrong Input\n",
      "Please Input a character8\n",
      "ASCII Value of character 8 is: 56\n"
     ]
    }
   ],
   "source": [
    "\n",
    "while True:\n",
    "    try:\n",
    "        char=input(\"Please Input a character\")\n",
    "        if len(char)==1:\n",
    "            break\n",
    "        print(\"Re-enter Wrong Input\")\n",
    "    except:\n",
    "        print(\"Error occured, Please Check  the input\")\n",
    "print(\"ASCII Value of character {0} is:\".format(char), ord(char))"
   ]
  },
  {
   "cell_type": "markdown",
   "metadata": {},
   "source": [
    "### Q5.\tWrite a Python Program to Make a Simple Calculator with 4 basic mathematical operations?"
   ]
  },
  {
   "cell_type": "code",
   "execution_count": 5,
   "metadata": {},
   "outputs": [
    {
     "name": "stdout",
     "output_type": "stream",
     "text": [
      "Enter First Number8\n",
      "Enter Second Number 9\n",
      "Addition of numbers is 17.0\n",
      "Substraction of numbers is -1.0\n",
      "Multiplication of numbers is 72.0\n",
      "Division of numbers is 0.8888888888888888\n"
     ]
    }
   ],
   "source": [
    "\n",
    "try:\n",
    "    num1=float(input(\"Enter First Number \"))\n",
    "    num2=float(input(\"Enter Second Number \"))\n",
    "except Exception as e:\n",
    "        print(\"Error Occured\",e)\n",
    "        \n",
    "def calculator(num1,num2):\n",
    "    print(\"Addition of numbers is\",num1+num2)\n",
    "    print(\"Substraction of numbers is\", num1-num2)\n",
    "    print(\"Multiplication of numbers is\", num1*num2)\n",
    "    print(\"Division of numbers is\", num1/num2)\n",
    "    \n",
    "calculator(num1,num2)"
   ]
  },
  {
   "cell_type": "code",
   "execution_count": null,
   "metadata": {},
   "outputs": [],
   "source": []
  }
 ],
 "metadata": {
  "kernelspec": {
   "display_name": "Python 3",
   "language": "python",
   "name": "python3"
  },
  "language_info": {
   "codemirror_mode": {
    "name": "ipython",
    "version": 3
   },
   "file_extension": ".py",
   "mimetype": "text/x-python",
   "name": "python",
   "nbconvert_exporter": "python",
   "pygments_lexer": "ipython3",
   "version": "3.8.5"
  }
 },
 "nbformat": 4,
 "nbformat_minor": 4
}
