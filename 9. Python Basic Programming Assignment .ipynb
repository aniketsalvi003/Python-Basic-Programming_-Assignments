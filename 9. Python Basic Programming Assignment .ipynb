{
 "cells": [
  {
   "cell_type": "markdown",
   "metadata": {},
   "source": [
    "#  Python Basics Programming Assignment 9"
   ]
  },
  {
   "cell_type": "markdown",
   "metadata": {},
   "source": [
    "### Q1.\tWrite a Python program to check if the given number is a Disarium Number?"
   ]
  },
  {
   "cell_type": "code",
   "execution_count": 26,
   "metadata": {},
   "outputs": [
    {
     "name": "stdout",
     "output_type": "stream",
     "text": [
      "Enter number to check Disarium Number175\n",
      "Enter numbered 175 is a Disarum Number\n"
     ]
    }
   ],
   "source": [
    "#Take number of rows and columns in matrices req\n",
    "while True:\n",
    "    try :\n",
    "        number=int(input(\"Enter number to check Disarium Number\"))\n",
    "        if number<1:\n",
    "            print(\"Enter a positive number\")\n",
    "            continue\n",
    "        else:\n",
    "            break\n",
    "    except Exception as e:\n",
    "        print(\"Error Occured\",e)\n",
    "        \n",
    "        \n",
    "def dis_num(number):\n",
    "    num=number\n",
    "    n=len(str(number))\n",
    " \n",
    "    sum1=0\n",
    "    while num>0:\n",
    "        rem= int(num%10)\n",
    "        sum1=sum1+(rem**n)\n",
    "        num=num//10\n",
    "        n-=1\n",
    "    \n",
    "    if sum1==number:\n",
    "        print(\"Enter numbered {} is a Disarum Number\".format(number))\n",
    "        \n",
    "    else:\n",
    "         print(\"Entered number {} is not a Disarum Number\".format(number))\n",
    "    \n",
    "dis_num(number)"
   ]
  },
  {
   "cell_type": "markdown",
   "metadata": {},
   "source": [
    "### Q2.\tWrite a Python program to print all disarium numbers between 1 to 100?"
   ]
  },
  {
   "cell_type": "code",
   "execution_count": 27,
   "metadata": {},
   "outputs": [
    {
     "name": "stdout",
     "output_type": "stream",
     "text": [
      "Enter number to check Disarium Number upto100\n",
      "Number 1 is a Disarum Number\n",
      "Number 2 is a Disarum Number\n",
      "Number 3 is a Disarum Number\n",
      "Number 4 is a Disarum Number\n",
      "Number 5 is a Disarum Number\n",
      "Number 6 is a Disarum Number\n",
      "Number 7 is a Disarum Number\n",
      "Number 8 is a Disarum Number\n",
      "Number 9 is a Disarum Number\n",
      "Number 89 is a Disarum Number\n"
     ]
    }
   ],
   "source": [
    "while True:\n",
    "    try :\n",
    "        range_num=int(input(\"Enter number to check Disarium Number upto\"))\n",
    "        if number<1:\n",
    "            print(\"Enter a positive number\")\n",
    "            continue\n",
    "        else:\n",
    "            break\n",
    "    except Exception as e:\n",
    "        print(\"Error Occured\",e)\n",
    "        \n",
    "def dis_num(range_num):\n",
    "    for number in range(1,range_num+1):\n",
    "        num=number\n",
    "        n=len(str(number))\n",
    " \n",
    "        sum1=0\n",
    "        while num>0:\n",
    "            rem= int(num%10)\n",
    "            sum1=sum1+(rem**n)\n",
    "            num=num//10\n",
    "            n-=1\n",
    "    \n",
    "        if sum1==number:\n",
    "            print(\"Number {} is a Disarum Number\".format(number))\n",
    "            \n",
    "dis_num(range_num)"
   ]
  },
  {
   "cell_type": "markdown",
   "metadata": {},
   "source": [
    "### Q3.\tWrite a Python program to check if the given number is Happy Number?"
   ]
  },
  {
   "cell_type": "code",
   "execution_count": 34,
   "metadata": {},
   "outputs": [
    {
     "name": "stdout",
     "output_type": "stream",
     "text": [
      "Enter number to check Happy Number32\n",
      "Happy Number\n"
     ]
    }
   ],
   "source": [
    "while True:\n",
    "    try :\n",
    "        number=int(input(\"Enter number to check Happy Number\"))\n",
    "        if number<1:\n",
    "            print(\"Enter a positive number\")\n",
    "            continue\n",
    "        else:\n",
    "            break\n",
    "    except Exception as e:\n",
    "        print(\"Error Occured\",e)\n",
    "        \n",
    "        \n",
    "def happy_num(number):\n",
    "    rem=0\n",
    "    sum1=0\n",
    "    while number>0:\n",
    "        rem= int(number%10)\n",
    "        sum1=sum1+(rem**2)\n",
    "        number=number//10\n",
    "    return sum1\n",
    "\n",
    "result = number\n",
    "while(result != 1 and result != 4):    \n",
    "    result = happy_num(result)\n",
    "if(result == 1):\n",
    "    print(\"Happy Number\")\n",
    "else:\n",
    "    print(\"Not a Happy Number\")    \n",
    "\n",
    "  "
   ]
  },
  {
   "cell_type": "markdown",
   "metadata": {},
   "source": [
    "### Q4.\tWrite a Python program to print all happy numbers between 1 and 100?"
   ]
  },
  {
   "cell_type": "code",
   "execution_count": 36,
   "metadata": {},
   "outputs": [
    {
     "name": "stdout",
     "output_type": "stream",
     "text": [
      "Happy Number : 1\n",
      "Happy Number : 2\n",
      "Happy Number : 3\n",
      "Happy Number : 4\n",
      "Happy Number : 5\n",
      "Happy Number : 6\n",
      "Happy Number : 7\n",
      "Happy Number : 8\n",
      "Happy Number : 9\n",
      "Happy Number : 10\n",
      "Happy Number : 11\n",
      "Happy Number : 12\n",
      "Happy Number : 13\n",
      "Happy Number : 14\n",
      "Happy Number : 15\n",
      "Happy Number : 16\n",
      "Happy Number : 17\n",
      "Happy Number : 18\n",
      "Happy Number : 19\n",
      "Happy Number : 20\n",
      "Happy Number : 21\n",
      "Happy Number : 22\n",
      "Happy Number : 23\n",
      "Happy Number : 24\n",
      "Happy Number : 25\n",
      "Happy Number : 26\n",
      "Happy Number : 27\n",
      "Happy Number : 28\n",
      "Happy Number : 29\n",
      "Happy Number : 30\n",
      "Happy Number : 31\n",
      "Happy Number : 32\n",
      "Happy Number : 33\n",
      "Happy Number : 34\n",
      "Happy Number : 35\n",
      "Happy Number : 36\n",
      "Happy Number : 37\n",
      "Happy Number : 38\n",
      "Happy Number : 39\n",
      "Happy Number : 40\n",
      "Happy Number : 41\n",
      "Happy Number : 42\n",
      "Happy Number : 43\n",
      "Happy Number : 44\n",
      "Happy Number : 45\n",
      "Happy Number : 46\n",
      "Happy Number : 47\n",
      "Happy Number : 48\n",
      "Happy Number : 49\n",
      "Happy Number : 50\n",
      "Happy Number : 51\n",
      "Happy Number : 52\n",
      "Happy Number : 53\n",
      "Happy Number : 54\n",
      "Happy Number : 55\n",
      "Happy Number : 56\n",
      "Happy Number : 57\n",
      "Happy Number : 58\n",
      "Happy Number : 59\n",
      "Happy Number : 60\n",
      "Happy Number : 61\n",
      "Happy Number : 62\n",
      "Happy Number : 63\n",
      "Happy Number : 64\n",
      "Happy Number : 65\n",
      "Happy Number : 66\n",
      "Happy Number : 67\n",
      "Happy Number : 68\n",
      "Happy Number : 69\n",
      "Happy Number : 70\n",
      "Happy Number : 71\n",
      "Happy Number : 72\n",
      "Happy Number : 73\n",
      "Happy Number : 74\n",
      "Happy Number : 75\n",
      "Happy Number : 76\n",
      "Happy Number : 77\n",
      "Happy Number : 78\n",
      "Happy Number : 79\n",
      "Happy Number : 80\n",
      "Happy Number : 81\n",
      "Happy Number : 82\n",
      "Happy Number : 83\n",
      "Happy Number : 84\n",
      "Happy Number : 85\n",
      "Happy Number : 86\n",
      "Happy Number : 87\n",
      "Happy Number : 88\n",
      "Happy Number : 89\n",
      "Happy Number : 90\n",
      "Happy Number : 91\n",
      "Happy Number : 92\n",
      "Happy Number : 93\n",
      "Happy Number : 94\n",
      "Happy Number : 95\n",
      "Happy Number : 96\n",
      "Happy Number : 97\n",
      "Happy Number : 98\n",
      "Happy Number : 99\n",
      "Happy Number : 100\n"
     ]
    }
   ],
   "source": [
    "def happy_num(number):\n",
    "    rem=0\n",
    "    sum1=0\n",
    "    while number>0:\n",
    "        rem= int(number%10)\n",
    "        sum1=sum1+(rem**2)\n",
    "        number=number//10\n",
    "    return sum1\n",
    "\n",
    "for i in range(1,101):\n",
    "    result = number\n",
    "    while(result != 1 and result != 4):    \n",
    "        result = happy_num(result)\n",
    "    if(result == 1):\n",
    "        print(\"Happy Number :\",i)"
   ]
  },
  {
   "cell_type": "markdown",
   "metadata": {},
   "source": [
    "### Q5.Write a Python program to determine whether the given number is a Harshad Number?"
   ]
  },
  {
   "cell_type": "code",
   "execution_count": 40,
   "metadata": {},
   "outputs": [
    {
     "name": "stdout",
     "output_type": "stream",
     "text": [
      "Enter number to check Harshad Number18\n",
      "It is a Harshad Number\n"
     ]
    }
   ],
   "source": [
    "while True:\n",
    "    try :\n",
    "        number=int(input(\"Enter number to check Harshad Number\"))\n",
    "        if number<1:\n",
    "            print(\"Enter a positive number\")\n",
    "            continue\n",
    "        else:\n",
    "            break\n",
    "    except Exception as e:\n",
    "        print(\"Error Occured\",e)\n",
    "        \n",
    "def harshad_number(number):\n",
    "    num=number\n",
    "    rem=0\n",
    "    sum1=0\n",
    "    \n",
    "    while num>0:\n",
    "        rem=num%10\n",
    "        sum1=sum1+rem\n",
    "        num=num//10\n",
    "        \n",
    "    if  number%sum1==0:\n",
    "        print(\"It is a Harshad Number\")\n",
    "        \n",
    "    else:\n",
    "        print(\"It is not a Harshad Number\")\n",
    "        \n",
    "harshad_number(number)"
   ]
  },
  {
   "cell_type": "markdown",
   "metadata": {},
   "source": [
    "### Q6.\tWrite a Python program to print all pronic numbers between 1 and 100?"
   ]
  },
  {
   "cell_type": "code",
   "execution_count": 51,
   "metadata": {},
   "outputs": [
    {
     "name": "stdout",
     "output_type": "stream",
     "text": [
      "Pronic Number 2\n",
      "Pronic Number 6\n",
      "Pronic Number 12\n",
      "Pronic Number 20\n",
      "Pronic Number 30\n",
      "Pronic Number 42\n",
      "Pronic Number 56\n",
      "Pronic Number 72\n",
      "Pronic Number 90\n"
     ]
    }
   ],
   "source": [
    "import math\n",
    "\n",
    "def pronic_number(number):\n",
    "    for i in range(1,number+1):\n",
    "        if (i*(i+1)==number):\n",
    "            print(\"Pronic Number\",number)\n",
    "\n",
    "for i in range(1,101):\n",
    "    pronic_number(i)\n",
    "       \n",
    "    "
   ]
  },
  {
   "cell_type": "code",
   "execution_count": null,
   "metadata": {},
   "outputs": [],
   "source": []
  }
 ],
 "metadata": {
  "kernelspec": {
   "display_name": "Python 3",
   "language": "python",
   "name": "python3"
  },
  "language_info": {
   "codemirror_mode": {
    "name": "ipython",
    "version": 3
   },
   "file_extension": ".py",
   "mimetype": "text/x-python",
   "name": "python",
   "nbconvert_exporter": "python",
   "pygments_lexer": "ipython3",
   "version": "3.8.5"
  }
 },
 "nbformat": 4,
 "nbformat_minor": 4
}
