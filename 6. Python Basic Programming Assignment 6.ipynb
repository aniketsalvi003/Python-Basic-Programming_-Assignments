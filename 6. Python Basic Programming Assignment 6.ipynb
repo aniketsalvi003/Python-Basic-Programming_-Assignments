{
 "cells": [
  {
   "cell_type": "markdown",
   "metadata": {},
   "source": [
    "# 6. Python Bassic Programming Assignment 6"
   ]
  },
  {
   "cell_type": "markdown",
   "metadata": {},
   "source": [
    "### Q1.\tWrite a Python Program to Display Fibonacci Sequence Using Recursion?"
   ]
  },
  {
   "cell_type": "code",
   "execution_count": 4,
   "metadata": {},
   "outputs": [
    {
     "name": "stdout",
     "output_type": "stream",
     "text": [
      "Enter required number of terms in Fibonacci Sequence 9\n",
      "Fibonacci Sequence\n",
      "0\n",
      "1\n",
      "1\n",
      "2\n",
      "3\n",
      "5\n",
      "8\n",
      "13\n",
      "21\n"
     ]
    }
   ],
   "source": [
    "while True:\n",
    "    try:\n",
    "        num=int(input(\"Enter required number of terms in Fibonacci Sequence \"))\n",
    "        if num<0:\n",
    "            print(\"Enter Positive Number\")\n",
    "        break\n",
    "    except Exception as e:\n",
    "        print(\"Error occured\",e)\n",
    "        \n",
    "def fib(num):\n",
    "    if num==0 or num==1:\n",
    "        return num\n",
    "    else:\n",
    "        return fib(num-1)+fib(num-2)\n",
    "print(\"Fibonacci Sequence\")\n",
    "\n",
    "for i in range(num):\n",
    "    print(fib(i))"
   ]
  },
  {
   "cell_type": "markdown",
   "metadata": {},
   "source": [
    "### Q2.\tWrite a Python Program to Find Factorial of Number Using Recursion?"
   ]
  },
  {
   "cell_type": "code",
   "execution_count": 7,
   "metadata": {},
   "outputs": [
    {
     "name": "stdout",
     "output_type": "stream",
     "text": [
      "Enter required number to find factorial9\n",
      "Factorial of 9 is \n",
      "362880\n"
     ]
    }
   ],
   "source": [
    "while True:\n",
    "    try:\n",
    "        num=int(input(\"Enter required number to find factorial\"))\n",
    "        if num<=0:\n",
    "            print(\"Enter Positive Number\")\n",
    "        break\n",
    "    except Exception as e:\n",
    "        print(\"Error occured\",e)\n",
    "        \n",
    "def fact(num):\n",
    "    if  num==1:\n",
    "        return num\n",
    "    else:\n",
    "        return num*fact(num-1)\n",
    "print(\"Factorial of {} is \".format(num)) \n",
    "print(fact(num))\n"
   ]
  },
  {
   "cell_type": "markdown",
   "metadata": {},
   "source": [
    "### Q3.\tWrite a Python Program to calculate your Body Mass Index? "
   ]
  },
  {
   "cell_type": "code",
   "execution_count": 8,
   "metadata": {},
   "outputs": [
    {
     "name": "stdout",
     "output_type": "stream",
     "text": [
      "Input your height in Feet: 6\n",
      "Input your weight in Kilogram: 50\n",
      "Your body mass index is:  1.39\n"
     ]
    }
   ],
   "source": [
    "while True:\n",
    "    try:\n",
    "        height = float(input(\"Input your height in Feet: \"))\n",
    "        weight = float(input(\"Input your weight in Kilogram: \"))\n",
    "        if height<=0 and weight<=0:\n",
    "            print(\"Enter Correct Number\")\n",
    "        break\n",
    "    except Exception as e:\n",
    "        print(\"Error occured\",e)\n",
    "print(\"Your body mass index is: \", round(weight / (height * height), 2))"
   ]
  },
  {
   "cell_type": "markdown",
   "metadata": {},
   "source": [
    "### Q4.\tWrite a Python Program to calculate the natural logarithm of any number?"
   ]
  },
  {
   "cell_type": "code",
   "execution_count": 9,
   "metadata": {},
   "outputs": [
    {
     "name": "stdout",
     "output_type": "stream",
     "text": [
      "Enter required number to find factorialaus\n",
      "Error occured invalid literal for int() with base 10: 'aus'\n",
      "Enter required number to find factorial15\n",
      "Natural Number of 15 is  2.70805020110221\n"
     ]
    }
   ],
   "source": [
    "while True:\n",
    "    try:\n",
    "        num=int(input(\"Enter required number to find factorial\"))\n",
    "        if num<=0:\n",
    "            print(\"Enter Positive Number\")\n",
    "        break\n",
    "    except Exception as e:\n",
    "        print(\"Error occured\",e)\n",
    "        \n",
    "import math\n",
    "\n",
    "print(\"Natural Number of {} is \".format(num), math.log(num))"
   ]
  },
  {
   "cell_type": "markdown",
   "metadata": {},
   "source": [
    "###  Q5.\tWrite a Python Program for cube sum of first n natural numbers?"
   ]
  },
  {
   "cell_type": "code",
   "execution_count": 11,
   "metadata": {},
   "outputs": [
    {
     "name": "stdout",
     "output_type": "stream",
     "text": [
      "Enter required number to find factorial8\n",
      "Cube Sum of First n natural numbers till 8 is  1296\n"
     ]
    }
   ],
   "source": [
    "while True:\n",
    "    try:\n",
    "        num=int(input(\"Enter required number to find factorial\"))\n",
    "        if num<=0:\n",
    "            print(\"Enter Positive Number\")\n",
    "        break\n",
    "    except Exception as e:\n",
    "        print(\"Error occured\",e)\n",
    "        \n",
    "def cube_sum(num):\n",
    "    sum = 0\n",
    "    for i in range(1, num+1):\n",
    "        sum +=i*i*i\n",
    "          \n",
    "    return sum\n",
    "\n",
    "print(\"Cube Sum of First n natural numbers till {} is \".format(num), cube_sum(num))"
   ]
  },
  {
   "cell_type": "code",
   "execution_count": null,
   "metadata": {},
   "outputs": [],
   "source": []
  }
 ],
 "metadata": {
  "kernelspec": {
   "display_name": "Python 3",
   "language": "python",
   "name": "python3"
  },
  "language_info": {
   "codemirror_mode": {
    "name": "ipython",
    "version": 3
   },
   "file_extension": ".py",
   "mimetype": "text/x-python",
   "name": "python",
   "nbconvert_exporter": "python",
   "pygments_lexer": "ipython3",
   "version": "3.8.5"
  }
 },
 "nbformat": 4,
 "nbformat_minor": 4
}
