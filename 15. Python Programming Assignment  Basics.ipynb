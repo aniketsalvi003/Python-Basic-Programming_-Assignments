{
 "cells": [
  {
   "cell_type": "markdown",
   "metadata": {},
   "source": [
    "# 15. Python Programming Assignment  Basics"
   ]
  },
  {
   "cell_type": "markdown",
   "metadata": {},
   "source": [
    "Question 1:\n",
    "Please write a program using generator to print the numbers which can be divisible by 5 and 7 between 0 and n in comma separated form while n is input by console.\n",
    "Example:\n",
    "If the following n is given as input to the program:\n",
    "100\n",
    "Then, the output of the program should be:\n",
    "0,35,70"
   ]
  },
  {
   "cell_type": "code",
   "execution_count": 6,
   "metadata": {},
   "outputs": [
    {
     "name": "stdout",
     "output_type": "stream",
     "text": [
      "Enter a number 100\n",
      "0, 35, 70\n"
     ]
    }
   ],
   "source": [
    "try:\n",
    "    n=int(input(\"Enter a number \"))\n",
    "except Exception as e:\n",
    "    print(\"Error occured \", e)\n",
    "    \n",
    "output=[]\n",
    "    \n",
    "class iterator(object):\n",
    "    def __init__(self,n):\n",
    "        super(iterator, self).__init__()\n",
    "        self.n=n\n",
    "        \n",
    "    def divisibleby(self):\n",
    "        for i in range(0, self.n):\n",
    "            if i % 7 == 0 and i % 5 == 0:\n",
    "                yield i\n",
    "                \n",
    "for num in iterator(n).divisibleby():\n",
    "    output.append(num)\n",
    "\n",
    "print(str(output)[1:-1])"
   ]
  },
  {
   "cell_type": "markdown",
   "metadata": {},
   "source": [
    "Question 2:\n",
    "Please write a program using generator to print the even numbers between 0 and n in comma separated form while n is input by console."
   ]
  },
  {
   "cell_type": "code",
   "execution_count": 8,
   "metadata": {},
   "outputs": [
    {
     "name": "stdout",
     "output_type": "stream",
     "text": [
      "Enter a number 10\n",
      "0, 2, 4, 6, 8, 10\n"
     ]
    }
   ],
   "source": [
    "try:\n",
    "    n=int(input(\"Enter a number \"))\n",
    "except Exception as e:\n",
    "    print(\"Error occured \", e)\n",
    "    \n",
    "output=[]\n",
    "    \n",
    "class iterator(object):\n",
    "    def __init__(self,n):\n",
    "        super(iterator, self).__init__()\n",
    "        self.n=n\n",
    "        \n",
    "    def divisibleby(self):\n",
    "        for i in range(0, self.n):\n",
    "            if i % 2 == 0 :\n",
    "                yield i\n",
    "                \n",
    "for num in iterator(n+1).divisibleby():\n",
    "    output.append(num)\n",
    "\n",
    "print(str(output)[1:-1])"
   ]
  },
  {
   "cell_type": "markdown",
   "metadata": {},
   "source": [
    "Question 3:\n",
    "The Fibonacci Sequence is computed based on the following formula:\n",
    "f(n)=0 if n=0\n",
    "f(n)=1 if n=1\n",
    "f(n)=f(n-1)+f(n-2) if n>1\n",
    "Please write a program using list comprehension to print the Fibonacci Sequence in comma separated form with a given n input by console."
   ]
  },
  {
   "cell_type": "code",
   "execution_count": 15,
   "metadata": {},
   "outputs": [
    {
     "name": "stdout",
     "output_type": "stream",
     "text": [
      "Enter a number 7\n",
      "1, 2, 3, 5, 8, 13\n"
     ]
    }
   ],
   "source": [
    "try:\n",
    "    n=int(input(\"Enter a number \"))\n",
    "except Exception as e:\n",
    "    print(\"Error occured \", e)\n",
    "    \n",
    "output=[]    \n",
    "    \n",
    "def fib(num):\n",
    "    a=0\n",
    "    b=1\n",
    "    if num == 0:\n",
    "        output.append(0)\n",
    "    elif num == 1:\n",
    "        output.append(1)\n",
    "    else :\n",
    "        for i in range(1,num):\n",
    "            c=a+b\n",
    "            a=b\n",
    "            b=c\n",
    "            output.append(b)\n",
    "        \n",
    "fib(n)\n",
    "print(str(output)[1:-1])"
   ]
  },
  {
   "cell_type": "markdown",
   "metadata": {},
   "source": [
    "Question 4:\n",
    "Assuming that we have some email addresses in the \"username@companyname.com\" format, please write program to print the user name of a given email address. Both user names and company names are composed of letters only.\n",
    "Example:\n",
    "If the following email address is given as input to the program:\n",
    "john@google.com\n",
    "Then, the output of the program should be:\n",
    "john"
   ]
  },
  {
   "cell_type": "code",
   "execution_count": 22,
   "metadata": {},
   "outputs": [
    {
     "name": "stdout",
     "output_type": "stream",
     "text": [
      "Enter email in format username@companyname.com john@google.com\n",
      " Username is   john\n"
     ]
    }
   ],
   "source": [
    "email=input(\"Enter email in format username@companyname.com\")\n",
    "\n",
    "def username(email):\n",
    "    try :\n",
    "        user=email.split(\"@\")[0]\n",
    "        print( \" Username is \", user)\n",
    "    except:\n",
    "        print( \" Email ID entered is not correct\")\n",
    "        \n",
    "username(email)   "
   ]
  },
  {
   "cell_type": "markdown",
   "metadata": {},
   "source": [
    "Question 5:\n",
    "Define a class named Shape and its subclass Square. The Square class has an init function which takes a length as argument. Both classes have a area function which can print the area of the shape where Shape's area is 0 by default."
   ]
  },
  {
   "cell_type": "code",
   "execution_count": 21,
   "metadata": {},
   "outputs": [
    {
     "name": "stdout",
     "output_type": "stream",
     "text": [
      "Area of Square length  4  is  16\n"
     ]
    }
   ],
   "source": [
    "class Shape():\n",
    "    def print_name(self):\n",
    "        print(self.name)\n",
    "\n",
    "    def get_area(self):\n",
    "        return None\n",
    "    \n",
    "class Square(Shape):\n",
    "    name    = \"Square\"\n",
    "    width   = 0        # A default value \n",
    "\n",
    "    def __init__(self, length):\n",
    "        self.length = length\n",
    "\n",
    "    def get_area(self):\n",
    "        return self.length * self.length\n",
    "    \n",
    "area=Square(4)\n",
    "print(\"Area of Square length \", area.length,\" is \", area.get_area())"
   ]
  },
  {
   "cell_type": "code",
   "execution_count": null,
   "metadata": {},
   "outputs": [],
   "source": []
  }
 ],
 "metadata": {
  "kernelspec": {
   "display_name": "Python 3",
   "language": "python",
   "name": "python3"
  },
  "language_info": {
   "codemirror_mode": {
    "name": "ipython",
    "version": 3
   },
   "file_extension": ".py",
   "mimetype": "text/x-python",
   "name": "python",
   "nbconvert_exporter": "python",
   "pygments_lexer": "ipython3",
   "version": "3.8.5"
  }
 },
 "nbformat": 4,
 "nbformat_minor": 4
}
