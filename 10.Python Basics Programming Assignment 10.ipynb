{
 "cells": [
  {
   "cell_type": "markdown",
   "metadata": {},
   "source": [
    "# Python Basics Programming Assignment"
   ]
  },
  {
   "cell_type": "markdown",
   "metadata": {},
   "source": [
    "### Q1.\tWrite a Python program to find sum of elements in list?"
   ]
  },
  {
   "cell_type": "code",
   "execution_count": 17,
   "metadata": {},
   "outputs": [
    {
     "name": "stdout",
     "output_type": "stream",
     "text": [
      "Enter Number of elements in list 5\n",
      "Enter 1 st number in list45\n",
      "Enter 2 st number in list54\n",
      "Enter 3 st number in list21\n",
      "Enter 4 st number in list235\n",
      "Enter 5 st number in list52\n",
      "Number list is as below:\n",
      "[45, 54, 21, 235, 52]\n",
      "[ 45  54  21 235  52]\n",
      "407\n"
     ]
    }
   ],
   "source": [
    "import numpy as np\n",
    "while True:\n",
    "    try:\n",
    "        num_ele=int(input(\"Enter Number of elements in list \"))\n",
    "        if num_ele<=0:\n",
    "            print(\"Enter a positive number\")\n",
    "            continue\n",
    "        else:\n",
    "            break\n",
    "    except Exception as e:\n",
    "        print(\"Error Occured\",e)\n",
    "        \n",
    "num_list=[]\n",
    "for i in range(1,num_ele+1):\n",
    "    num=int(input(\"Enter {} st number in list\".format(i)))\n",
    "    num_list.append(num)\n",
    "    \n",
    "print(\"Number list is as below:\")\n",
    "print(num_list)\n",
    "np_list=np.array(num_list)\n",
    "print(np_list)\n",
    "total=np.sum(np_list)\n",
    "print(total)"
   ]
  },
  {
   "cell_type": "markdown",
   "metadata": {},
   "source": [
    "### Q2.\tWrite a Python program to  Multiply all numbers in the list?"
   ]
  },
  {
   "cell_type": "code",
   "execution_count": 23,
   "metadata": {},
   "outputs": [
    {
     "name": "stdout",
     "output_type": "stream",
     "text": [
      "Enter Number of elements in list 3\n",
      "Enter 1 st number in list4\n",
      "Enter 2 st number in list3\n",
      "Enter 3 st number in list10\n",
      "Number list is as below:\n",
      "[4, 3, 10]\n",
      "[ 4  3 10]\n",
      "Multiplications of numbers in list is  120\n"
     ]
    }
   ],
   "source": [
    "import numpy as np\n",
    "while True:\n",
    "    try:\n",
    "        num_ele=int(input(\"Enter Number of elements in list \"))\n",
    "        if num_ele<=0:\n",
    "            print(\"Enter a positive number\")\n",
    "            continue\n",
    "        else:\n",
    "            break\n",
    "    except Exception as e:\n",
    "        print(\"Error Occured\",e)\n",
    "        \n",
    "num_list=[]\n",
    "for i in range(1,num_ele+1):\n",
    "    num=int(input(\"Enter {} st number in list\".format(i)))\n",
    "    num_list.append(num)\n",
    "    \n",
    "print(\"Number list is as below:\")\n",
    "print(num_list)\n",
    "np_list=np.array(num_list)\n",
    "print(np_list)\n",
    "mul_num=np.prod(np_list)\n",
    "print(\"Multiplications of numbers in list is \",mul_num)"
   ]
  },
  {
   "cell_type": "markdown",
   "metadata": {},
   "source": [
    "### Q3.\tWrite a Python program to find smallest number in a list?"
   ]
  },
  {
   "cell_type": "code",
   "execution_count": 18,
   "metadata": {},
   "outputs": [
    {
     "name": "stdout",
     "output_type": "stream",
     "text": [
      "Enter Number of elements in list 5\n",
      "Enter 1 st number in list78\n",
      "Enter 2 st number in list41\n",
      "Enter 3 st number in list21\n",
      "Enter 4 st number in list296\n",
      "Enter 5 st number in list71\n",
      "Number list is as below:\n",
      "[78, 41, 21, 296, 71]\n",
      "[ 78  41  21 296  71]\n",
      "Minimum number in list is  21\n"
     ]
    }
   ],
   "source": [
    "import numpy as np\n",
    "while True:\n",
    "    try:\n",
    "        num_ele=int(input(\"Enter Number of elements in list \"))\n",
    "        if num_ele<=0:\n",
    "            print(\"Enter a positive number\")\n",
    "            continue\n",
    "        else:\n",
    "            break\n",
    "    except Exception as e:\n",
    "        print(\"Error Occured\",e)\n",
    "        \n",
    "num_list=[]\n",
    "for i in range(1,num_ele+1):\n",
    "    num=int(input(\"Enter {} st number in list\".format(i)))\n",
    "    num_list.append(num)\n",
    "    \n",
    "print(\"Number list is as below:\")\n",
    "print(num_list)\n",
    "np_list=np.array(num_list)\n",
    "print(np_list)\n",
    "min_num=np.min(np_list)\n",
    "print(\"Minimum number in list is \",min_num)"
   ]
  },
  {
   "cell_type": "markdown",
   "metadata": {},
   "source": [
    "### Q4.\tWrite a Python program to find largest number in a list?"
   ]
  },
  {
   "cell_type": "code",
   "execution_count": 19,
   "metadata": {},
   "outputs": [
    {
     "name": "stdout",
     "output_type": "stream",
     "text": [
      "Enter Number of elements in list 5\n",
      "Enter 1 st number in list74\n",
      "Enter 2 st number in list89\n",
      "Enter 3 st number in list789\n",
      "Enter 4 st number in list45\n",
      "Enter 5 st number in list12\n",
      "Number list is as below:\n",
      "[74, 89, 789, 45, 12]\n",
      "[ 74  89 789  45  12]\n",
      "Largest number in list is  789\n"
     ]
    }
   ],
   "source": [
    "import numpy as np\n",
    "while True:\n",
    "    try:\n",
    "        num_ele=int(input(\"Enter Number of elements in list \"))\n",
    "        if num_ele<=0:\n",
    "            print(\"Enter a positive number\")\n",
    "            continue\n",
    "        else:\n",
    "            break\n",
    "    except Exception as e:\n",
    "        print(\"Error Occured\",e)\n",
    "        \n",
    "num_list=[]\n",
    "for i in range(1,num_ele+1):\n",
    "    num=int(input(\"Enter {} st number in list\".format(i)))\n",
    "    num_list.append(num)\n",
    "    \n",
    "print(\"Number list is as below:\")\n",
    "print(num_list)\n",
    "np_list=np.array(num_list)\n",
    "print(np_list)\n",
    "max_num=np.max(np_list)\n",
    "print(\"Largest number in list is \",max_num)"
   ]
  },
  {
   "cell_type": "markdown",
   "metadata": {},
   "source": [
    "### Q5.\tWrite a Python program to find second largest number in a list?"
   ]
  },
  {
   "cell_type": "code",
   "execution_count": 24,
   "metadata": {},
   "outputs": [
    {
     "name": "stdout",
     "output_type": "stream",
     "text": [
      "Enter Number of elements in list 5\n",
      "Enter 1 st number in list1\n",
      "Enter 2 st number in list2\n",
      "Enter 3 st number in list3\n",
      "Enter 4 st number in list4\n",
      "Enter 5 st number in list5\n",
      "Number list is as below:\n",
      "[1, 2, 3, 4, 5]\n",
      "[1 2 3 4 5]\n",
      "Second largest number in list is  4\n"
     ]
    }
   ],
   "source": [
    "import numpy as np\n",
    "while True:\n",
    "    try:\n",
    "        num_ele=int(input(\"Enter Number of elements in list \"))\n",
    "        if num_ele<=0:\n",
    "            print(\"Enter a positive number\")\n",
    "            continue\n",
    "        else:\n",
    "            break\n",
    "    except Exception as e:\n",
    "        print(\"Error Occured\",e)\n",
    "        \n",
    "num_list=[]\n",
    "for i in range(1,num_ele+1):\n",
    "    num=int(input(\"Enter {} st number in list\".format(i)))\n",
    "    num_list.append(num)\n",
    "    \n",
    "print(\"Number list is as below:\")\n",
    "print(num_list)\n",
    "np_list=np.array(num_list)\n",
    "print(np_list)\n",
    "np.sort(np_list)\n",
    "print(\"Second largest number in list is \",np_list[-2])"
   ]
  },
  {
   "cell_type": "markdown",
   "metadata": {},
   "source": [
    "### Q6.\tWrite a Python program to find N largest elements from a list?"
   ]
  },
  {
   "cell_type": "code",
   "execution_count": 27,
   "metadata": {},
   "outputs": [
    {
     "name": "stdout",
     "output_type": "stream",
     "text": [
      "Enter Number of elements in list 5\n",
      "Enter N Largest element required3\n",
      "Enter 1 st number in list9\n",
      "Enter 2 st number in list87\n",
      "Enter 3 st number in list5\n",
      "Enter 4 st number in list4\n",
      "Enter 5 st number in list1\n",
      "Number list is as below:\n",
      "[9, 87, 5, 4, 1]\n",
      "[ 9 87  5  4  1]\n",
      "Second largest number in list is  5\n"
     ]
    }
   ],
   "source": [
    "import numpy as np\n",
    "while True:\n",
    "    try:\n",
    "        num_ele=int(input(\"Enter Number of elements in list \"))\n",
    "        n_large=int(input(\"Enter N Largest element required\"))\n",
    "        if num_ele<=0:\n",
    "            print(\"Please enter positive number\")\n",
    "            continue\n",
    "        elif num_ele>num_ele:\n",
    "            print(\"N largest element cannot be greater total number of elements in list\")\n",
    "        else:\n",
    "            break\n",
    "    except Exception as e:\n",
    "        print(\"Error Occured\",e)\n",
    "        \n",
    "num_list=[]\n",
    "for i in range(1,num_ele+1):\n",
    "    num=int(input(\"Enter {} st number in list\".format(i)))\n",
    "    num_list.append(num)\n",
    "    \n",
    "print(\"Number list is as below:\")\n",
    "print(num_list)\n",
    "np_list=np.array(num_list)\n",
    "print(np_list)\n",
    "np.sort(np_list)\n",
    "print(\"Second largest number in list is \",np_list[-n_large])"
   ]
  },
  {
   "cell_type": "markdown",
   "metadata": {},
   "source": [
    "###  Q7.\tWrite a Python program to print even numbers in a list?"
   ]
  },
  {
   "cell_type": "code",
   "execution_count": 28,
   "metadata": {},
   "outputs": [
    {
     "name": "stdout",
     "output_type": "stream",
     "text": [
      "Enter Number of elements in list 5\n",
      "Enter 1 st number in list4\n",
      "Enter 2 st number in list56\n",
      "Enter 3 st number in list41\n",
      "Enter 4 st number in list23\n",
      "Enter 5 st number in list71\n",
      "Number list is as below:\n",
      "[4, 56, 41, 23, 71]\n",
      "Even numbers is list\n",
      "4\n",
      "56\n"
     ]
    }
   ],
   "source": [
    "import numpy as np\n",
    "while True:\n",
    "    try:\n",
    "        num_ele=int(input(\"Enter Number of elements in list \"))\n",
    "        if num_ele<=0:\n",
    "            print(\"Enter a positive number\")\n",
    "            continue\n",
    "        else:\n",
    "            break\n",
    "    except Exception as e:\n",
    "        print(\"Error Occured\",e)\n",
    "        \n",
    "num_list=[]\n",
    "for i in range(1,num_ele+1):\n",
    "    num=int(input(\"Enter {} st number in list\".format(i)))\n",
    "    num_list.append(num)\n",
    "    \n",
    "print(\"Number list is as below:\")\n",
    "print(num_list)\n",
    "\n",
    "print(\"Even numbers is list\")\n",
    "for ele in num_list:\n",
    "    if ele%2==0:\n",
    "        print(ele)"
   ]
  },
  {
   "cell_type": "markdown",
   "metadata": {},
   "source": [
    "### Q8.\tWrite a Python program to print odd numbers in a List?"
   ]
  },
  {
   "cell_type": "code",
   "execution_count": 30,
   "metadata": {},
   "outputs": [
    {
     "name": "stdout",
     "output_type": "stream",
     "text": [
      "Enter Number of elements in list 5\n",
      "Enter 1 st number in list14\n",
      "Enter 2 st number in list78\n",
      "Enter 3 st number in list41\n",
      "Enter 4 st number in list33\n",
      "Enter 5 st number in list61\n",
      "Number list is as below:\n",
      "[14, 78, 41, 33, 61]\n",
      "Odd numbers is list\n",
      "41\n",
      "33\n",
      "61\n"
     ]
    }
   ],
   "source": [
    "import numpy as np\n",
    "while True:\n",
    "    try:\n",
    "        num_ele=int(input(\"Enter Number of elements in list \"))\n",
    "        if num_ele<=0:\n",
    "            print(\"Enter a positive number\")\n",
    "            continue\n",
    "        else:\n",
    "            break\n",
    "    except Exception as e:\n",
    "        print(\"Error Occured\",e)\n",
    "        \n",
    "num_list=[]\n",
    "for i in range(1,num_ele+1):\n",
    "    num=int(input(\"Enter {} st number in list\".format(i)))\n",
    "    num_list.append(num)\n",
    "    \n",
    "print(\"Number list is as below:\")\n",
    "print(num_list)\n",
    "\n",
    "print(\"Odd numbers is list\")\n",
    "for ele in num_list:\n",
    "    if ele%2!=0:\n",
    "        print(ele)"
   ]
  },
  {
   "cell_type": "markdown",
   "metadata": {},
   "source": [
    "### Q9.\tWrite a Python program to Remove empty List from List?"
   ]
  },
  {
   "cell_type": "code",
   "execution_count": 34,
   "metadata": {},
   "outputs": [
    {
     "name": "stdout",
     "output_type": "stream",
     "text": [
      "First list  [5, 7, 8, [], 5, 2, []]\n",
      "List without empty list  [5, 7, 8, 5, 2]\n"
     ]
    }
   ],
   "source": [
    "list1=[5,7,8,[],5,2,[]]\n",
    "\n",
    "print(\"First list \", list1)\n",
    "\n",
    "full_list=[ele for ele in list1 if ele!=[] ]\n",
    "print(\"List without empty list \",full_list)"
   ]
  },
  {
   "cell_type": "markdown",
   "metadata": {},
   "source": [
    "### Q10.\tWrite a Python program to Cloning or Copying a list?"
   ]
  },
  {
   "cell_type": "code",
   "execution_count": 31,
   "metadata": {},
   "outputs": [
    {
     "name": "stdout",
     "output_type": "stream",
     "text": [
      "Enter Number of elements in list 5\n",
      "Enter 1 st number in list1\n",
      "Enter 2 st number in list2\n",
      "Enter 3 st number in list3\n",
      "Enter 4 st number in list4\n",
      "Enter 5 st number in list5\n",
      "Number list is as below:\n",
      "[1, 2, 3, 4, 5]\n",
      "Copied List is as below :\n",
      "[1, 2, 3, 4, 5]\n"
     ]
    }
   ],
   "source": [
    "import numpy as np\n",
    "while True:\n",
    "    try:\n",
    "        num_ele=int(input(\"Enter Number of elements in list \"))\n",
    "        if num_ele<=0:\n",
    "            print(\"Enter a positive number\")\n",
    "            continue\n",
    "        else:\n",
    "            break\n",
    "    except Exception as e:\n",
    "        print(\"Error Occured\",e)\n",
    "        \n",
    "num_list=[]\n",
    "for i in range(1,num_ele+1):\n",
    "    num=input(\"Enter {} st number in list\".format(i))\n",
    "    num_list.append(num)\n",
    "    \n",
    "print(\"Number list is as below:\")\n",
    "print(num_list)\n",
    "\n",
    "clone_list=num_list.copy()\n",
    "print(\"Copied List is as below :\")\n",
    "print(clone_list)"
   ]
  },
  {
   "cell_type": "markdown",
   "metadata": {},
   "source": [
    "### Q11.\tWrite a Python program to Count occurrences of an element in a list?"
   ]
  },
  {
   "cell_type": "code",
   "execution_count": 33,
   "metadata": {},
   "outputs": [
    {
     "name": "stdout",
     "output_type": "stream",
     "text": [
      "Enter Number of elements in list 5\n",
      "Element to check occurance3\n",
      "Enter 1 st number in list1\n",
      "Enter 2 st number in list2\n",
      "Enter 3 st number in list3\n",
      "Enter 4 st number in list3\n",
      "Enter 5 st number in list4\n",
      "Number list is as below:\n",
      "['1', '2', '3', '3', '4']\n",
      "Occurance of element 3 in list is  2\n"
     ]
    }
   ],
   "source": [
    "import numpy as np\n",
    "while True:\n",
    "    try:\n",
    "        num_ele=int(input(\"Enter Number of elements in list \"))\n",
    "        occurance=input(\"Element to check occurance\")\n",
    "        if num_ele<=0:\n",
    "            print(\"Enter a positive number\")\n",
    "            continue\n",
    "        else:\n",
    "            break\n",
    "    except Exception as e:\n",
    "        print(\"Error Occured\",e)\n",
    "        \n",
    "num_list=[]\n",
    "for i in range(1,num_ele+1):\n",
    "    num=input(\"Enter {} st number in list\".format(i))\n",
    "    num_list.append(num)\n",
    "    \n",
    "print(\"Number list is as below:\")\n",
    "print(num_list)\n",
    "\n",
    "print(\"Occurance of element {} in list is \".format(occurance),num_list.count(occurance))"
   ]
  },
  {
   "cell_type": "code",
   "execution_count": null,
   "metadata": {},
   "outputs": [],
   "source": []
  }
 ],
 "metadata": {
  "kernelspec": {
   "display_name": "Python 3",
   "language": "python",
   "name": "python3"
  },
  "language_info": {
   "codemirror_mode": {
    "name": "ipython",
    "version": 3
   },
   "file_extension": ".py",
   "mimetype": "text/x-python",
   "name": "python",
   "nbconvert_exporter": "python",
   "pygments_lexer": "ipython3",
   "version": "3.8.5"
  }
 },
 "nbformat": 4,
 "nbformat_minor": 4
}
