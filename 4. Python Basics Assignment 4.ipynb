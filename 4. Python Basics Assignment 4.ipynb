{
 "cells": [
  {
   "cell_type": "markdown",
   "metadata": {},
   "source": [
    "# Python Basic Assignment 4"
   ]
  },
  {
   "cell_type": "markdown",
   "metadata": {},
   "source": [
    "### Q1.\tWrite a Python Program to Find the Factorial of a Number?"
   ]
  },
  {
   "cell_type": "code",
   "execution_count": 3,
   "metadata": {},
   "outputs": [
    {
     "name": "stdout",
     "output_type": "stream",
     "text": [
      "Enter a number to find factorial4\n",
      "Factorial is 24\n"
     ]
    }
   ],
   "source": [
    "#Function to calculate factorail of a number\n",
    "def fact(num):\n",
    "    fact=1\n",
    "    if num < 0:\n",
    "        print(\"Provided is a negative number so has not factorial\")\n",
    "    elif num==0 or num==1:\n",
    "        print(\"Factorial of {0} is 1\".format(num))\n",
    "    else:\n",
    "        while num>0:\n",
    "            fact=fact*num\n",
    "            num=num-1\n",
    "        print(\"Factorial is\", fact)\n",
    "        \n",
    "num=int(input(\"Enter a number to find factorial\"))\n",
    "fact(num)\n",
    "        "
   ]
  },
  {
   "cell_type": "markdown",
   "metadata": {},
   "source": [
    "### 2.\tWrite a Python Program to Display the multiplication Table?"
   ]
  },
  {
   "cell_type": "code",
   "execution_count": 4,
   "metadata": {},
   "outputs": [
    {
     "name": "stdout",
     "output_type": "stream",
     "text": [
      "Enter number for multiplication table12\n",
      "12 X 0= 0\n",
      "12 X 1= 12\n",
      "12 X 2= 24\n",
      "12 X 3= 36\n",
      "12 X 4= 48\n",
      "12 X 5= 60\n",
      "12 X 6= 72\n",
      "12 X 7= 84\n",
      "12 X 8= 96\n",
      "12 X 9= 108\n",
      "12 X 10= 120\n"
     ]
    }
   ],
   "source": [
    "#Function to calculate Multiplication Table\n",
    "\n",
    "def mul_table(num):\n",
    "    if num==0:\n",
    "        print(\"Entered Number is zero\")\n",
    "    else :\n",
    "        for i in range(11):\n",
    "            print(\"{0} X {1}=\".format(num,i), num*i)\n",
    "            \n",
    "num=int(input(\"Enter number for multiplication table\"))\n",
    "mul_table(num)"
   ]
  },
  {
   "cell_type": "markdown",
   "metadata": {},
   "source": [
    "### Q3.\tWrite a Python Program to Print the Fibonacci sequence?"
   ]
  },
  {
   "cell_type": "code",
   "execution_count": 10,
   "metadata": {},
   "outputs": [
    {
     "name": "stdout",
     "output_type": "stream",
     "text": [
      "Please Enter Number of Numbers required in Fibobacci Series7\n",
      "Fibonacci Series\n",
      "0\n",
      "1\n",
      "1\n",
      "2\n",
      "3\n",
      "5\n",
      "8\n"
     ]
    }
   ],
   "source": [
    "#Function to calculate Fibonaccci Sequence :\n",
    "def fib_seq(num):\n",
    "    n1,n2=0,1\n",
    "    count=0\n",
    "    \n",
    "    if num==0 or num<0:\n",
    "        print(\"Enter  a postive number\")\n",
    "        \n",
    "    else:\n",
    "        while count< num:\n",
    "            print(n1)\n",
    "            n_temp=n1+n2\n",
    "            n1,n2=n2,n_temp\n",
    "            count=count+1\n",
    "        \n",
    "num=int(input(\"Please Enter Number of Numbers required in Fibobacci Series\"))\n",
    "print(\"Fibonacci Series\")\n",
    "fib_seq(num)"
   ]
  },
  {
   "cell_type": "markdown",
   "metadata": {},
   "source": [
    "### Q4.\tWrite a Python Program to Check Armstrong Number?"
   ]
  },
  {
   "cell_type": "code",
   "execution_count": 15,
   "metadata": {},
   "outputs": [
    {
     "name": "stdout",
     "output_type": "stream",
     "text": [
      "Enter to check an Armstrong Number407\n",
      "407 is an Armstrong Number\n"
     ]
    }
   ],
   "source": [
    "#Function to check armstrong number\n",
    "def armstrong(num):\n",
    "    sum=0\n",
    "    n=len(str(num))\n",
    "    \n",
    "    temp = num\n",
    "    while temp > 0:\n",
    "        digit = temp % 10\n",
    "        sum = sum + (digit ** n)\n",
    "        temp = temp // 10\n",
    "        \n",
    "    if num==sum:\n",
    "        print(num, \"is an Armstrong Number\")\n",
    "    else :\n",
    "        print(num,\" is not an Armstrong Number\")\n",
    "            \n",
    "num=int(input(\"Enter to check an Armstrong Number\"))\n",
    "armstrong(num)            "
   ]
  },
  {
   "cell_type": "markdown",
   "metadata": {},
   "source": [
    "### Q5.\tWrite a Python Program to Find Armstrong Number in an Interval?"
   ]
  },
  {
   "cell_type": "code",
   "execution_count": 18,
   "metadata": {},
   "outputs": [
    {
     "name": "stdout",
     "output_type": "stream",
     "text": [
      "Enter start of range100\n",
      "Enter end of range200\n",
      "153\n"
     ]
    }
   ],
   "source": [
    "#Function to check armstrong number in an interval\n",
    "def armstrong(min_num, max_num):\n",
    "    for num in range(min_num, max_num+1):\n",
    "        sum=0 \n",
    "        n=len(str(num))\n",
    "    \n",
    "        temp = num\n",
    "        while temp > 0:\n",
    "            digit = temp % 10\n",
    "            sum = sum + (digit ** n)\n",
    "            temp = temp // 10\n",
    "        \n",
    "        if num==sum:\n",
    "            print(num)\n",
    "            \n",
    "min_num= int(input(\"Enter start of range\"))\n",
    "max_num= int(input(\"Enter end of range\"))\n",
    "armstrong(min_num, max_num)            "
   ]
  },
  {
   "cell_type": "markdown",
   "metadata": {},
   "source": [
    "### Q6.\tWrite a Python Program to Find the Sum of Natural Numbers?"
   ]
  },
  {
   "cell_type": "code",
   "execution_count": 19,
   "metadata": {},
   "outputs": [
    {
     "name": "stdout",
     "output_type": "stream",
     "text": [
      "Enter a number upto which sum of Natural number is required50\n",
      "Sum of natural numbers till 0 is  1275\n"
     ]
    }
   ],
   "source": [
    "#Function to calculate sum of natural number\n",
    "\n",
    "def sum_of_nat(num):\n",
    "    if num<0:\n",
    "        print(\"Enter a positive number\")\n",
    "        \n",
    "    else:\n",
    "        sum=0\n",
    "        while num>0:\n",
    "            sum=sum+num\n",
    "            num=num-1\n",
    "        print(\"Sum of natural numbers till {} is \".format(num),sum)\n",
    "        \n",
    "num=int(input(\"Enter a number upto which sum of Natural number is required\"))\n",
    "sum_of_nat(num)"
   ]
  },
  {
   "cell_type": "code",
   "execution_count": null,
   "metadata": {},
   "outputs": [],
   "source": []
  }
 ],
 "metadata": {
  "kernelspec": {
   "display_name": "Python 3",
   "language": "python",
   "name": "python3"
  },
  "language_info": {
   "codemirror_mode": {
    "name": "ipython",
    "version": 3
   },
   "file_extension": ".py",
   "mimetype": "text/x-python",
   "name": "python",
   "nbconvert_exporter": "python",
   "pygments_lexer": "ipython3",
   "version": "3.8.5"
  }
 },
 "nbformat": 4,
 "nbformat_minor": 4
}
