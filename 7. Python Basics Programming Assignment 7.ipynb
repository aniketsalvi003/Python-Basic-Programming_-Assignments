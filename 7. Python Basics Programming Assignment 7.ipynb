{
 "cells": [
  {
   "cell_type": "markdown",
   "metadata": {},
   "source": [
    "# Python Basics Programming Assignment 7"
   ]
  },
  {
   "cell_type": "markdown",
   "metadata": {},
   "source": [
    "### Q1.\tWrite a Python Program to find sum of array?"
   ]
  },
  {
   "cell_type": "code",
   "execution_count": 15,
   "metadata": {},
   "outputs": [
    {
     "name": "stdout",
     "output_type": "stream",
     "text": [
      "Enter number of elements is array3\n",
      "Enter Element of array15\n",
      "Enter Element of array45\n",
      "Enter Element of array32\n",
      "Entered array is :  [15, 45, 32]\n",
      "Sum of elements in array is : 92\n"
     ]
    }
   ],
   "source": [
    "#Get user input for number of elements\n",
    "while True:\n",
    "    try:\n",
    "        ele_num=int(input(\"Enter number of elements is array\"))\n",
    "        if ele_num<0:\n",
    "            print(\"Enter a positive number\")\n",
    "        break\n",
    "    except Exception as e:\n",
    "        print(\"Error occured\",e)\n",
    "\n",
    "#Take array inputs from user       \n",
    "try:\n",
    "    array_num=[]\n",
    "    for i in range(ele_num):\n",
    "        ele=int(input(\"Enter Element of array\"))\n",
    "        array_num.append(ele)\n",
    "except Exception as e:\n",
    "    print(\"Error occured\",e)\n",
    "    \n",
    "print(\"Entered array is : \", array_num)\n",
    "\n",
    "#fucntion to calculate sum of array elements\n",
    "\n",
    "def array_sum(array):\n",
    "    sum=0\n",
    "    for ele in array:\n",
    "        sum+=ele\n",
    "    return sum\n",
    "\n",
    "print(\"Sum of elements in array is :\",array_sum(array_num))"
   ]
  },
  {
   "cell_type": "markdown",
   "metadata": {},
   "source": [
    "### Q2.\tWrite a Python Program to find largest element in an array? "
   ]
  },
  {
   "cell_type": "code",
   "execution_count": 18,
   "metadata": {},
   "outputs": [
    {
     "name": "stdout",
     "output_type": "stream",
     "text": [
      "Enter number of elements is array5\n",
      "Enter Element of array789\n",
      "Enter Element of array415\n",
      "Enter Element of array452\n",
      "Enter Element of array13\n",
      "Enter Element of array657\n",
      "Entered array is :  [789, 415, 452, 13, 657]\n",
      "Largest element in array is : 789\n"
     ]
    }
   ],
   "source": [
    "#Get user input for number of elements\n",
    "while True:\n",
    "    try:\n",
    "        ele_num=int(input(\"Enter number of elements is array\"))\n",
    "        if ele_num<0:\n",
    "            print(\"Enter a positive number\")\n",
    "        break\n",
    "    except Exception as e:\n",
    "        print(\"Error occured\",e)\n",
    "\n",
    "#Take array inputs from user       \n",
    "try:\n",
    "    array_num=[]\n",
    "    for i in range(ele_num):\n",
    "        ele=int(input(\"Enter Element of array\"))\n",
    "        array_num.append(ele)\n",
    "except Exception as e:\n",
    "    print(\"Error occured\",e)\n",
    "    \n",
    "print(\"Entered array is : \", array_num)\n",
    "\n",
    "#Function to check largest number in array\n",
    "\n",
    "def array_large(array):\n",
    "    large=0\n",
    "    for ele in array:\n",
    "        if ele > large:\n",
    "            large=ele\n",
    "    return large\n",
    "\n",
    "print(\"Largest element in array is :\", array_large(array_num))"
   ]
  },
  {
   "cell_type": "markdown",
   "metadata": {},
   "source": [
    "### Q3.\tWrite a Python Program for array rotation? "
   ]
  },
  {
   "cell_type": "code",
   "execution_count": 29,
   "metadata": {},
   "outputs": [
    {
     "name": "stdout",
     "output_type": "stream",
     "text": [
      "Enter number of elements is array3\n",
      "Enter Element of array1\n",
      "Enter Element of array2\n",
      "Enter Element of array3\n",
      "Entered array is :  [1, 2, 3]\n",
      "Rotated array :\n",
      "[3, 2, 1]\n"
     ]
    }
   ],
   "source": [
    "#Get user input for number of elements\n",
    "while True:\n",
    "    try:\n",
    "        ele_num=int(input(\"Enter number of elements is array\"))\n",
    "        if ele_num<0:\n",
    "            print(\"Enter a positive number\")\n",
    "        break\n",
    "    except Exception as e:\n",
    "        print(\"Error occured\",e)\n",
    "\n",
    "#Take array inputs from user       \n",
    "try:\n",
    "    array_num=[]\n",
    "    for i in range(ele_num):\n",
    "        ele=int(input(\"Enter Element of array\"))\n",
    "        array_num.append(ele)\n",
    "except Exception as e:\n",
    "    print(\"Error occured\",e)\n",
    "    \n",
    "print(\"Entered array is : \", array_num)\n",
    "\n",
    "#Function for array rotation\n",
    "\n",
    "def array_rot(array):\n",
    "    array.reverse()\n",
    "    print(array)\n",
    "    \n",
    "print(\"Rotated array :\")\n",
    "array_rot(array_num)"
   ]
  },
  {
   "cell_type": "markdown",
   "metadata": {},
   "source": [
    "### Q4.\tWrite a Python Program to Split the array and add the first part to the end?"
   ]
  },
  {
   "cell_type": "code",
   "execution_count": 45,
   "metadata": {},
   "outputs": [
    {
     "name": "stdout",
     "output_type": "stream",
     "text": [
      "Enter number of elements is array5\n",
      "Enter Element of array4\n",
      "Enter Element of array5\n",
      "Enter Element of array1\n",
      "Enter Element of array2\n",
      "Enter Element of array3\n",
      "Entered array is :  [4, 5, 1, 2, 3]\n",
      "Enter split position in array2\n",
      "Split the array and add the first part to the end\n"
     ]
    },
    {
     "data": {
      "text/plain": [
       "[1, 2, 3, 4, 5]"
      ]
     },
     "execution_count": 45,
     "metadata": {},
     "output_type": "execute_result"
    }
   ],
   "source": [
    "#Get user input for number of elements\n",
    "while True:\n",
    "    try:\n",
    "        ele_num=int(input(\"Enter number of elements is array\"))\n",
    "        if ele_num<0:\n",
    "            print(\"Enter a positive number\")\n",
    "        break\n",
    "    except Exception as e:\n",
    "        print(\"Error occured\",e)\n",
    "\n",
    "#Take array inputs from user       \n",
    "try:\n",
    "    array_num=[]\n",
    "    for i in range(ele_num):\n",
    "        ele=int(input(\"Enter Element of array\"))\n",
    "        array_num.append(ele)\n",
    "except Exception as e:\n",
    "    print(\"Error occured\",e)\n",
    "    \n",
    "print(\"Entered array is : \", array_num)\n",
    "\n",
    "while True:\n",
    "    try:\n",
    "        pos=int(input(\"Enter split position in array\"))\n",
    "        if pos<0:\n",
    "            print(\"Enter a positive number\")\n",
    "        break;\n",
    "    except Exception as e:\n",
    "        print(\"Error occured\",e)\n",
    "        \n",
    "#function to split array\n",
    "def array_split(array, ele_num, pos):\n",
    "    b = array[:pos]\n",
    "    return (array[pos::]+b[::])\n",
    "\n",
    "print('Split the array and add the first part to the end')\n",
    "array_split(array_num, ele_num, pos)"
   ]
  },
  {
   "cell_type": "markdown",
   "metadata": {},
   "source": [
    "### Q5.\tWrite a Python Program to check if given array is Monotonic?"
   ]
  },
  {
   "cell_type": "code",
   "execution_count": 47,
   "metadata": {},
   "outputs": [
    {
     "name": "stdout",
     "output_type": "stream",
     "text": [
      "Enter number of elements is array5\n",
      "Enter Element of array4\n",
      "Enter Element of array5\n",
      "Enter Element of array6\n",
      "Enter Element of array7\n",
      "Enter Element of array8\n",
      "Entered array is :  [4, 5, 6, 7, 8]\n",
      "Array is monotonic\n"
     ]
    }
   ],
   "source": [
    "while True:\n",
    "    try:\n",
    "        ele_num=int(input(\"Enter number of elements is array\"))\n",
    "        if ele_num<0:\n",
    "            print(\"Enter a positive number\")\n",
    "        break\n",
    "    except Exception as e:\n",
    "        print(\"Error occured\",e)\n",
    "\n",
    "#Take array inputs from user       \n",
    "try:\n",
    "    array_num=[]\n",
    "    for i in range(ele_num):\n",
    "        ele=int(input(\"Enter Element of array\"))\n",
    "        array_num.append(ele)\n",
    "except Exception as e:\n",
    "    print(\"Error occured\",e)\n",
    "    \n",
    "print(\"Entered array is : \", array_num)\n",
    "\n",
    "#Function to check if array is monotonic\n",
    "def isMonotonic(array):\n",
    "  \n",
    "    return (all(array[i] <= array[i + 1] for i in range(len(array) - 1)) or\n",
    "            all(array[i] >= array[i + 1] for i in range(len(array) - 1)))\n",
    "\n",
    "answer= isMonotonic(array_num)\n",
    "if answer==True:\n",
    "    print(\"Array is monotonic\")\n",
    "else:\n",
    "    print(\"Array is not monotonic\")"
   ]
  },
  {
   "cell_type": "code",
   "execution_count": null,
   "metadata": {},
   "outputs": [],
   "source": []
  }
 ],
 "metadata": {
  "kernelspec": {
   "display_name": "Python 3",
   "language": "python",
   "name": "python3"
  },
  "language_info": {
   "codemirror_mode": {
    "name": "ipython",
    "version": 3
   },
   "file_extension": ".py",
   "mimetype": "text/x-python",
   "name": "python",
   "nbconvert_exporter": "python",
   "pygments_lexer": "ipython3",
   "version": "3.8.5"
  }
 },
 "nbformat": 4,
 "nbformat_minor": 4
}
