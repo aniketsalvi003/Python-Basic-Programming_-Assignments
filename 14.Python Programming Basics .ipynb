{
 "cells": [
  {
   "cell_type": "markdown",
   "metadata": {},
   "source": [
    "## 14.Python Programming Basics "
   ]
  },
  {
   "cell_type": "markdown",
   "metadata": {},
   "source": [
    "Question 1:\n",
    "Define a class with a generator which can iterate the numbers, which are divisible by 7, between a given range 0 and n."
   ]
  },
  {
   "cell_type": "code",
   "execution_count": 15,
   "metadata": {},
   "outputs": [
    {
     "name": "stdout",
     "output_type": "stream",
     "text": [
      "Enter a number 23\n",
      "0\n",
      "7\n",
      "14\n",
      "21\n"
     ]
    }
   ],
   "source": [
    "try:\n",
    "    n=int(input(\"Enter a number \"))\n",
    "except Exception as e:\n",
    "    print(\"Error occured \", e)\n",
    "    \n",
    "\n",
    "class iterator(object):\n",
    "    def __init__(self,n):\n",
    "        super(iterator, self).__init__()\n",
    "        self.n=n\n",
    "        \n",
    "    def divisibleby7(self):\n",
    "        for i in range(0, self.n):\n",
    "            if i % 7 == 0:\n",
    "                yield i\n",
    "                \n",
    "for num in iterator(n).divisibleby7():\n",
    "    print(num)"
   ]
  },
  {
   "cell_type": "raw",
   "metadata": {},
   "source": [
    "Question 2:\n",
    "Write a program to compute the frequency of the words from the input. The output should output after sorting the key alphanumerically. \n"
   ]
  },
  {
   "cell_type": "code",
   "execution_count": 10,
   "metadata": {},
   "outputs": [
    {
     "name": "stdout",
     "output_type": "stream",
     "text": [
      "Input a sentenceNew to Python or choosing between Python 2 and Python 3? Read Python 2 or Python 3.\n",
      "New : 1\n",
      "to : 1\n",
      "Python : 5\n",
      "or : 2\n",
      "choosing : 1\n",
      "between : 1\n",
      "Python : 5\n",
      "2 : 2\n",
      "and : 1\n",
      "Python : 5\n",
      "3? : 1\n",
      "Read : 1\n",
      "Python : 5\n",
      "2 : 2\n",
      "or : 2\n",
      "Python : 5\n",
      "3. : 1\n"
     ]
    }
   ],
   "source": [
    "import numpy as np\n",
    "\n",
    "def frequency(words):\n",
    "    words=words.split()\n",
    "    words=np.array(words)\n",
    "\n",
    "    for word in words:\n",
    "        print( word ,':', np.char.count(words, word).sum())\n",
    "    \n",
    "words=input(\"Input a sentence\")\n",
    "frequency(words)"
   ]
  },
  {
   "cell_type": "markdown",
   "metadata": {},
   "source": [
    "Question 3:\n",
    "Define a class Person and its two child classes: Male and Female. All classes have a method \"getGender\" which can print \"Male\" for Male class and \"Female\" for Female class."
   ]
  },
  {
   "cell_type": "code",
   "execution_count": 13,
   "metadata": {},
   "outputs": [
    {
     "name": "stdout",
     "output_type": "stream",
     "text": [
      "Male\n",
      "Female\n"
     ]
    }
   ],
   "source": [
    "class  Person(object):  \n",
    "    def  getGender(self):\n",
    "        return None\n",
    "          \n",
    "class  Male(Person):  \n",
    "    def  getGender(self):  \n",
    "        return  \"Male\"  \n",
    "class  Female(Person):  \n",
    "    def  getGender(self):  \n",
    "        return  \"Female\"  \n",
    "\n",
    "Male = Male()  \n",
    "Female= Female()  \n",
    "print(Male.getGender())  \n",
    "print(Female.getGender())"
   ]
  },
  {
   "cell_type": "markdown",
   "metadata": {},
   "source": [
    "Question 4:Please write a program to generate all sentences where subject is in [\"I\", \"You\"] and verb is in [\"Play\", \"Love\"] and the object is in [\"Hockey\",\"Football\"]."
   ]
  },
  {
   "cell_type": "code",
   "execution_count": 14,
   "metadata": {},
   "outputs": [
    {
     "name": "stdout",
     "output_type": "stream",
     "text": [
      "I Play Hockey\n",
      "I Play Football\n",
      "I Love Hockey\n",
      "I Love Football\n",
      "You Play Hockey\n",
      "You Play Football\n",
      "You Love Hockey\n",
      "You Love Football\n"
     ]
    }
   ],
   "source": [
    "subject= [\"I\", \"You\"]\n",
    "verb= [\"Play\", \"Love\"]\n",
    "object= [\"Hockey\",\"Football\"]\n",
    "\n",
    "for s in subject :\n",
    "    for v in verb:\n",
    "        for o in object:\n",
    "            print(s , v, o)\n",
    "        "
   ]
  },
  {
   "cell_type": "raw",
   "metadata": {},
   "source": [
    "Question 5:\n",
    "Please write a program to compress and decompress the string \"hello world!hello world!hello world!hello world!\"."
   ]
  },
  {
   "cell_type": "code",
   "execution_count": 15,
   "metadata": {},
   "outputs": [
    {
     "name": "stdout",
     "output_type": "stream",
     "text": [
      "b'x\\x9c\\xcbH\\xcd\\xc9\\xc9W(\\xcf/\\xcaIQ\\xcc \\x82\\r\\x00\\xbd[\\x11\\xf5'\n",
      "b'hello world!hello world!hello world!hello world!'\n"
     ]
    }
   ],
   "source": [
    "import zlib\n",
    "s = 'hello world!hello world!hello world!hello world!'.encode()\n",
    "t = zlib.compress(s)\n",
    "print(t)\n",
    "print(zlib.decompress(t))"
   ]
  },
  {
   "cell_type": "markdown",
   "metadata": {},
   "source": [
    "Question 6:\n",
    "Please write a binary search function which searches an item in a sorted list. The function should return the index of element to be searched in the list."
   ]
  },
  {
   "cell_type": "code",
   "execution_count": 5,
   "metadata": {},
   "outputs": [
    {
     "name": "stdout",
     "output_type": "stream",
     "text": [
      "Element is present at index  3\n"
     ]
    }
   ],
   "source": [
    "def binarySearch(array, l, r, x):\n",
    "  \n",
    "    while l <= r:\n",
    "  \n",
    "        mid = l + (r - l) // 2;\n",
    "          \n",
    "        # Check if x is present at mid\n",
    "        if array[mid] == x:\n",
    "            return mid\n",
    "  \n",
    "        # If x is greater, ignore left half\n",
    "        elif array[mid] < x:\n",
    "            l = mid + 1\n",
    "  \n",
    "        # If x is smaller, ignore right half\n",
    "        else:\n",
    "            r = mid - 1\n",
    "      \n",
    "    # If we reach here, then the element\n",
    "    # was not present\n",
    "    return -1\n",
    "  \n",
    "# Driver Code\n",
    "array = [ 2, 3, 4, 10, 40 ]\n",
    "x = 10\n",
    "  \n",
    "# Function call\n",
    "result = binarySearch(array, 0, len(array)-1, x)\n",
    "  \n",
    "if result != -1:\n",
    "    print (\"Element is present at index % d\" % result)\n",
    "else:\n",
    "    print (\"Element is not present in array\")"
   ]
  },
  {
   "cell_type": "code",
   "execution_count": null,
   "metadata": {},
   "outputs": [],
   "source": []
  }
 ],
 "metadata": {
  "kernelspec": {
   "display_name": "Python 3",
   "language": "python",
   "name": "python3"
  },
  "language_info": {
   "codemirror_mode": {
    "name": "ipython",
    "version": 3
   },
   "file_extension": ".py",
   "mimetype": "text/x-python",
   "name": "python",
   "nbconvert_exporter": "python",
   "pygments_lexer": "ipython3",
   "version": "3.8.5"
  }
 },
 "nbformat": 4,
 "nbformat_minor": 4
}
